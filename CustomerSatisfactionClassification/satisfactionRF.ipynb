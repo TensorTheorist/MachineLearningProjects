{
 "cells": [
  {
   "cell_type": "markdown",
   "id": "2cf344c6-b2d4-427b-8323-1ccdc0c7fcb0",
   "metadata": {},
   "source": [
    "Import libraries and data\n",
    "---\n",
    "For this task, import the pandas, numpy, matploblib, and seaborn libraries. Then, load the CSV file \"customer satisfaction.csv\" and print the first 5 rows."
   ]
  },
  {
   "cell_type": "code",
   "execution_count": 1,
   "id": "0b9ce522-7945-4d65-9de3-66407de52052",
   "metadata": {},
   "outputs": [],
   "source": [
    "# Libraries \n",
    "import numpy as np\n",
    "import pandas as pd\n",
    "import matplotlib.pyplot as plt\n",
    "import seaborn as sns\n"
   ]
  },
  {
   "cell_type": "markdown",
   "id": "3aafd5f4-0247-45db-a805-834563c285a2",
   "metadata": {},
   "source": [
    "Create dummy variables for the categorical variables\n",
    "---\n",
    "Use the info function to see the data set information: null values, variable types, and length. If there are categorical variables, transform them into dummy variables."
   ]
  },
  {
   "cell_type": "code",
   "execution_count": 2,
   "id": "bb5f3f4b-ba08-44ad-814a-1cb88269bea2",
   "metadata": {},
   "outputs": [
    {
     "data": {
      "text/html": [
       "<div>\n",
       "<style scoped>\n",
       "    .dataframe tbody tr th:only-of-type {\n",
       "        vertical-align: middle;\n",
       "    }\n",
       "\n",
       "    .dataframe tbody tr th {\n",
       "        vertical-align: top;\n",
       "    }\n",
       "\n",
       "    .dataframe thead th {\n",
       "        text-align: right;\n",
       "    }\n",
       "</style>\n",
       "<table border=\"1\" class=\"dataframe\">\n",
       "  <thead>\n",
       "    <tr style=\"text-align: right;\">\n",
       "      <th></th>\n",
       "      <th>id</th>\n",
       "      <th>gender</th>\n",
       "      <th>age</th>\n",
       "      <th>lifecycle</th>\n",
       "      <th>delivery_options</th>\n",
       "      <th>online_ordering_flow</th>\n",
       "      <th>chocolate_quality</th>\n",
       "      <th>chocolate_variety</th>\n",
       "      <th>chocolate_uniqueness</th>\n",
       "      <th>innovation</th>\n",
       "      <th>inspiration</th>\n",
       "      <th>payment_options</th>\n",
       "      <th>price_fairness</th>\n",
       "      <th>price_variety</th>\n",
       "      <th>price_comparison</th>\n",
       "      <th>packaging</th>\n",
       "      <th>satisfaction</th>\n",
       "    </tr>\n",
       "  </thead>\n",
       "  <tbody>\n",
       "    <tr>\n",
       "      <th>0</th>\n",
       "      <td>1334268</td>\n",
       "      <td>Female</td>\n",
       "      <td>55</td>\n",
       "      <td>Returning</td>\n",
       "      <td>3</td>\n",
       "      <td>3</td>\n",
       "      <td>4</td>\n",
       "      <td>3</td>\n",
       "      <td>3</td>\n",
       "      <td>1</td>\n",
       "      <td>4</td>\n",
       "      <td>1</td>\n",
       "      <td>2</td>\n",
       "      <td>3</td>\n",
       "      <td>1</td>\n",
       "      <td>1</td>\n",
       "      <td>Neutral or Dissatisfied</td>\n",
       "    </tr>\n",
       "    <tr>\n",
       "      <th>1</th>\n",
       "      <td>25807</td>\n",
       "      <td>Female</td>\n",
       "      <td>39</td>\n",
       "      <td>First-time</td>\n",
       "      <td>1</td>\n",
       "      <td>1</td>\n",
       "      <td>4</td>\n",
       "      <td>1</td>\n",
       "      <td>3</td>\n",
       "      <td>2</td>\n",
       "      <td>3</td>\n",
       "      <td>1</td>\n",
       "      <td>5</td>\n",
       "      <td>5</td>\n",
       "      <td>2</td>\n",
       "      <td>1</td>\n",
       "      <td>Neutral or Dissatisfied</td>\n",
       "    </tr>\n",
       "    <tr>\n",
       "      <th>2</th>\n",
       "      <td>8091466</td>\n",
       "      <td>Female</td>\n",
       "      <td>56</td>\n",
       "      <td>Returning</td>\n",
       "      <td>2</td>\n",
       "      <td>2</td>\n",
       "      <td>2</td>\n",
       "      <td>3</td>\n",
       "      <td>3</td>\n",
       "      <td>2</td>\n",
       "      <td>3</td>\n",
       "      <td>2</td>\n",
       "      <td>2</td>\n",
       "      <td>5</td>\n",
       "      <td>2</td>\n",
       "      <td>2</td>\n",
       "      <td>Neutral or Dissatisfied</td>\n",
       "    </tr>\n",
       "    <tr>\n",
       "      <th>3</th>\n",
       "      <td>6008938</td>\n",
       "      <td>Female</td>\n",
       "      <td>64</td>\n",
       "      <td>Returning</td>\n",
       "      <td>4</td>\n",
       "      <td>3</td>\n",
       "      <td>5</td>\n",
       "      <td>5</td>\n",
       "      <td>3</td>\n",
       "      <td>4</td>\n",
       "      <td>4</td>\n",
       "      <td>3</td>\n",
       "      <td>3</td>\n",
       "      <td>4</td>\n",
       "      <td>4</td>\n",
       "      <td>3</td>\n",
       "      <td>Neutral or Dissatisfied</td>\n",
       "    </tr>\n",
       "    <tr>\n",
       "      <th>4</th>\n",
       "      <td>3030096</td>\n",
       "      <td>Male</td>\n",
       "      <td>59</td>\n",
       "      <td>Returning</td>\n",
       "      <td>5</td>\n",
       "      <td>3</td>\n",
       "      <td>1</td>\n",
       "      <td>5</td>\n",
       "      <td>4</td>\n",
       "      <td>1</td>\n",
       "      <td>1</td>\n",
       "      <td>3</td>\n",
       "      <td>2</td>\n",
       "      <td>5</td>\n",
       "      <td>1</td>\n",
       "      <td>3</td>\n",
       "      <td>Neutral or Dissatisfied</td>\n",
       "    </tr>\n",
       "  </tbody>\n",
       "</table>\n",
       "</div>"
      ],
      "text/plain": [
       "        id  gender  age   lifecycle  delivery_options  online_ordering_flow  \\\n",
       "0  1334268  Female   55   Returning                 3                     3   \n",
       "1    25807  Female   39  First-time                 1                     1   \n",
       "2  8091466  Female   56   Returning                 2                     2   \n",
       "3  6008938  Female   64   Returning                 4                     3   \n",
       "4  3030096    Male   59   Returning                 5                     3   \n",
       "\n",
       "   chocolate_quality  chocolate_variety  chocolate_uniqueness  innovation  \\\n",
       "0                  4                  3                     3           1   \n",
       "1                  4                  1                     3           2   \n",
       "2                  2                  3                     3           2   \n",
       "3                  5                  5                     3           4   \n",
       "4                  1                  5                     4           1   \n",
       "\n",
       "   inspiration  payment_options  price_fairness  price_variety  \\\n",
       "0            4                1               2              3   \n",
       "1            3                1               5              5   \n",
       "2            3                2               2              5   \n",
       "3            4                3               3              4   \n",
       "4            1                3               2              5   \n",
       "\n",
       "   price_comparison  packaging             satisfaction  \n",
       "0                 1          1  Neutral or Dissatisfied  \n",
       "1                 2          1  Neutral or Dissatisfied  \n",
       "2                 2          2  Neutral or Dissatisfied  \n",
       "3                 4          3  Neutral or Dissatisfied  \n",
       "4                 1          3  Neutral or Dissatisfied  "
      ]
     },
     "execution_count": 2,
     "metadata": {},
     "output_type": "execute_result"
    }
   ],
   "source": [
    "# Import data using read_csv function from Pandas\n",
    "df = pd.read_csv(\"customer satisfaction.csv\")\n",
    "df.head()"
   ]
  },
  {
   "cell_type": "markdown",
   "id": "73b7527a-f488-4348-a993-75219a6b9d9f",
   "metadata": {},
   "source": [
    "Compute summary statistics and compare averages for satisfied vs. non-satisfied\n",
    "---\n",
    "Apply the describe function to extract the summary statistics. Take note of possible outliers. Next, compare the averages for each variable grouped by satisfied and non-satisfied. Specify which variables have the highest deltas from one group to the other."
   ]
  },
  {
   "cell_type": "code",
   "execution_count": 3,
   "id": "c916c57f-97d7-412b-955b-6b7dc5a89736",
   "metadata": {},
   "outputs": [
    {
     "name": "stdout",
     "output_type": "stream",
     "text": [
      "<class 'pandas.core.frame.DataFrame'>\n",
      "RangeIndex: 5000 entries, 0 to 4999\n",
      "Data columns (total 17 columns):\n",
      " #   Column                Non-Null Count  Dtype \n",
      "---  ------                --------------  ----- \n",
      " 0   id                    5000 non-null   int64 \n",
      " 1   gender                5000 non-null   object\n",
      " 2   age                   5000 non-null   int64 \n",
      " 3   lifecycle             5000 non-null   object\n",
      " 4   delivery_options      5000 non-null   int64 \n",
      " 5   online_ordering_flow  5000 non-null   int64 \n",
      " 6   chocolate_quality     5000 non-null   int64 \n",
      " 7   chocolate_variety     5000 non-null   int64 \n",
      " 8   chocolate_uniqueness  5000 non-null   int64 \n",
      " 9   innovation            5000 non-null   int64 \n",
      " 10  inspiration           5000 non-null   int64 \n",
      " 11  payment_options       5000 non-null   int64 \n",
      " 12  price_fairness        5000 non-null   int64 \n",
      " 13  price_variety         5000 non-null   int64 \n",
      " 14  price_comparison      5000 non-null   int64 \n",
      " 15  packaging             5000 non-null   int64 \n",
      " 16  satisfaction          5000 non-null   object\n",
      "dtypes: int64(14), object(3)\n",
      "memory usage: 664.2+ KB\n"
     ]
    }
   ],
   "source": [
    "df.info()"
   ]
  },
  {
   "cell_type": "code",
   "execution_count": 4,
   "id": "e7ea702c-b14a-45e8-9af1-4d3db9637784",
   "metadata": {},
   "outputs": [
    {
     "data": {
      "text/html": [
       "<div>\n",
       "<style scoped>\n",
       "    .dataframe tbody tr th:only-of-type {\n",
       "        vertical-align: middle;\n",
       "    }\n",
       "\n",
       "    .dataframe tbody tr th {\n",
       "        vertical-align: top;\n",
       "    }\n",
       "\n",
       "    .dataframe thead th {\n",
       "        text-align: right;\n",
       "    }\n",
       "</style>\n",
       "<table border=\"1\" class=\"dataframe\">\n",
       "  <thead>\n",
       "    <tr style=\"text-align: right;\">\n",
       "      <th></th>\n",
       "      <th>id</th>\n",
       "      <th>age</th>\n",
       "      <th>delivery_options</th>\n",
       "      <th>online_ordering_flow</th>\n",
       "      <th>chocolate_quality</th>\n",
       "      <th>chocolate_variety</th>\n",
       "      <th>chocolate_uniqueness</th>\n",
       "      <th>innovation</th>\n",
       "      <th>inspiration</th>\n",
       "      <th>payment_options</th>\n",
       "      <th>price_fairness</th>\n",
       "      <th>price_variety</th>\n",
       "      <th>price_comparison</th>\n",
       "      <th>packaging</th>\n",
       "      <th>gender_Male</th>\n",
       "      <th>lifecycle_Returning</th>\n",
       "      <th>satisfaction_Satisfied</th>\n",
       "    </tr>\n",
       "  </thead>\n",
       "  <tbody>\n",
       "    <tr>\n",
       "      <th>0</th>\n",
       "      <td>1334268</td>\n",
       "      <td>55</td>\n",
       "      <td>3</td>\n",
       "      <td>3</td>\n",
       "      <td>4</td>\n",
       "      <td>3</td>\n",
       "      <td>3</td>\n",
       "      <td>1</td>\n",
       "      <td>4</td>\n",
       "      <td>1</td>\n",
       "      <td>2</td>\n",
       "      <td>3</td>\n",
       "      <td>1</td>\n",
       "      <td>1</td>\n",
       "      <td>0</td>\n",
       "      <td>1</td>\n",
       "      <td>0</td>\n",
       "    </tr>\n",
       "    <tr>\n",
       "      <th>1</th>\n",
       "      <td>25807</td>\n",
       "      <td>39</td>\n",
       "      <td>1</td>\n",
       "      <td>1</td>\n",
       "      <td>4</td>\n",
       "      <td>1</td>\n",
       "      <td>3</td>\n",
       "      <td>2</td>\n",
       "      <td>3</td>\n",
       "      <td>1</td>\n",
       "      <td>5</td>\n",
       "      <td>5</td>\n",
       "      <td>2</td>\n",
       "      <td>1</td>\n",
       "      <td>0</td>\n",
       "      <td>0</td>\n",
       "      <td>0</td>\n",
       "    </tr>\n",
       "    <tr>\n",
       "      <th>2</th>\n",
       "      <td>8091466</td>\n",
       "      <td>56</td>\n",
       "      <td>2</td>\n",
       "      <td>2</td>\n",
       "      <td>2</td>\n",
       "      <td>3</td>\n",
       "      <td>3</td>\n",
       "      <td>2</td>\n",
       "      <td>3</td>\n",
       "      <td>2</td>\n",
       "      <td>2</td>\n",
       "      <td>5</td>\n",
       "      <td>2</td>\n",
       "      <td>2</td>\n",
       "      <td>0</td>\n",
       "      <td>1</td>\n",
       "      <td>0</td>\n",
       "    </tr>\n",
       "    <tr>\n",
       "      <th>3</th>\n",
       "      <td>6008938</td>\n",
       "      <td>64</td>\n",
       "      <td>4</td>\n",
       "      <td>3</td>\n",
       "      <td>5</td>\n",
       "      <td>5</td>\n",
       "      <td>3</td>\n",
       "      <td>4</td>\n",
       "      <td>4</td>\n",
       "      <td>3</td>\n",
       "      <td>3</td>\n",
       "      <td>4</td>\n",
       "      <td>4</td>\n",
       "      <td>3</td>\n",
       "      <td>0</td>\n",
       "      <td>1</td>\n",
       "      <td>0</td>\n",
       "    </tr>\n",
       "    <tr>\n",
       "      <th>4</th>\n",
       "      <td>3030096</td>\n",
       "      <td>59</td>\n",
       "      <td>5</td>\n",
       "      <td>3</td>\n",
       "      <td>1</td>\n",
       "      <td>5</td>\n",
       "      <td>4</td>\n",
       "      <td>1</td>\n",
       "      <td>1</td>\n",
       "      <td>3</td>\n",
       "      <td>2</td>\n",
       "      <td>5</td>\n",
       "      <td>1</td>\n",
       "      <td>3</td>\n",
       "      <td>1</td>\n",
       "      <td>1</td>\n",
       "      <td>0</td>\n",
       "    </tr>\n",
       "  </tbody>\n",
       "</table>\n",
       "</div>"
      ],
      "text/plain": [
       "        id  age  delivery_options  online_ordering_flow  chocolate_quality  \\\n",
       "0  1334268   55                 3                     3                  4   \n",
       "1    25807   39                 1                     1                  4   \n",
       "2  8091466   56                 2                     2                  2   \n",
       "3  6008938   64                 4                     3                  5   \n",
       "4  3030096   59                 5                     3                  1   \n",
       "\n",
       "   chocolate_variety  chocolate_uniqueness  innovation  inspiration  \\\n",
       "0                  3                     3           1            4   \n",
       "1                  1                     3           2            3   \n",
       "2                  3                     3           2            3   \n",
       "3                  5                     3           4            4   \n",
       "4                  5                     4           1            1   \n",
       "\n",
       "   payment_options  price_fairness  price_variety  price_comparison  \\\n",
       "0                1               2              3                 1   \n",
       "1                1               5              5                 2   \n",
       "2                2               2              5                 2   \n",
       "3                3               3              4                 4   \n",
       "4                3               2              5                 1   \n",
       "\n",
       "   packaging  gender_Male  lifecycle_Returning  satisfaction_Satisfied  \n",
       "0          1            0                    1                       0  \n",
       "1          1            0                    0                       0  \n",
       "2          2            0                    1                       0  \n",
       "3          3            0                    1                       0  \n",
       "4          3            1                    1                       0  "
      ]
     },
     "execution_count": 4,
     "metadata": {},
     "output_type": "execute_result"
    }
   ],
   "source": [
    "df = pd.get_dummies(df, drop_first=True)\n",
    "df.head()"
   ]
  },
  {
   "cell_type": "code",
   "execution_count": 5,
   "id": "a490b8f0-d570-4ff2-80af-86ee5bf383bc",
   "metadata": {},
   "outputs": [
    {
     "data": {
      "text/html": [
       "<div>\n",
       "<style scoped>\n",
       "    .dataframe tbody tr th:only-of-type {\n",
       "        vertical-align: middle;\n",
       "    }\n",
       "\n",
       "    .dataframe tbody tr th {\n",
       "        vertical-align: top;\n",
       "    }\n",
       "\n",
       "    .dataframe thead th {\n",
       "        text-align: right;\n",
       "    }\n",
       "</style>\n",
       "<table border=\"1\" class=\"dataframe\">\n",
       "  <thead>\n",
       "    <tr style=\"text-align: right;\">\n",
       "      <th></th>\n",
       "      <th>id</th>\n",
       "      <th>age</th>\n",
       "      <th>delivery_options</th>\n",
       "      <th>online_ordering_flow</th>\n",
       "      <th>chocolate_quality</th>\n",
       "      <th>chocolate_variety</th>\n",
       "      <th>chocolate_uniqueness</th>\n",
       "      <th>innovation</th>\n",
       "      <th>inspiration</th>\n",
       "      <th>payment_options</th>\n",
       "      <th>price_fairness</th>\n",
       "      <th>price_variety</th>\n",
       "      <th>price_comparison</th>\n",
       "      <th>packaging</th>\n",
       "      <th>gender_Male</th>\n",
       "      <th>lifecycle_Returning</th>\n",
       "      <th>satisfaction_Satisfied</th>\n",
       "    </tr>\n",
       "  </thead>\n",
       "  <tbody>\n",
       "    <tr>\n",
       "      <th>0</th>\n",
       "      <td>1334268</td>\n",
       "      <td>55</td>\n",
       "      <td>3</td>\n",
       "      <td>3</td>\n",
       "      <td>4</td>\n",
       "      <td>3</td>\n",
       "      <td>3</td>\n",
       "      <td>1</td>\n",
       "      <td>4</td>\n",
       "      <td>1</td>\n",
       "      <td>2</td>\n",
       "      <td>3</td>\n",
       "      <td>1</td>\n",
       "      <td>1</td>\n",
       "      <td>0</td>\n",
       "      <td>1</td>\n",
       "      <td>0</td>\n",
       "    </tr>\n",
       "    <tr>\n",
       "      <th>1</th>\n",
       "      <td>25807</td>\n",
       "      <td>39</td>\n",
       "      <td>1</td>\n",
       "      <td>1</td>\n",
       "      <td>4</td>\n",
       "      <td>1</td>\n",
       "      <td>3</td>\n",
       "      <td>2</td>\n",
       "      <td>3</td>\n",
       "      <td>1</td>\n",
       "      <td>5</td>\n",
       "      <td>5</td>\n",
       "      <td>2</td>\n",
       "      <td>1</td>\n",
       "      <td>0</td>\n",
       "      <td>0</td>\n",
       "      <td>0</td>\n",
       "    </tr>\n",
       "    <tr>\n",
       "      <th>2</th>\n",
       "      <td>8091466</td>\n",
       "      <td>56</td>\n",
       "      <td>2</td>\n",
       "      <td>2</td>\n",
       "      <td>2</td>\n",
       "      <td>3</td>\n",
       "      <td>3</td>\n",
       "      <td>2</td>\n",
       "      <td>3</td>\n",
       "      <td>2</td>\n",
       "      <td>2</td>\n",
       "      <td>5</td>\n",
       "      <td>2</td>\n",
       "      <td>2</td>\n",
       "      <td>0</td>\n",
       "      <td>1</td>\n",
       "      <td>0</td>\n",
       "    </tr>\n",
       "    <tr>\n",
       "      <th>3</th>\n",
       "      <td>6008938</td>\n",
       "      <td>64</td>\n",
       "      <td>4</td>\n",
       "      <td>3</td>\n",
       "      <td>5</td>\n",
       "      <td>5</td>\n",
       "      <td>3</td>\n",
       "      <td>4</td>\n",
       "      <td>4</td>\n",
       "      <td>3</td>\n",
       "      <td>3</td>\n",
       "      <td>4</td>\n",
       "      <td>4</td>\n",
       "      <td>3</td>\n",
       "      <td>0</td>\n",
       "      <td>1</td>\n",
       "      <td>0</td>\n",
       "    </tr>\n",
       "    <tr>\n",
       "      <th>4</th>\n",
       "      <td>3030096</td>\n",
       "      <td>59</td>\n",
       "      <td>5</td>\n",
       "      <td>3</td>\n",
       "      <td>1</td>\n",
       "      <td>5</td>\n",
       "      <td>4</td>\n",
       "      <td>1</td>\n",
       "      <td>1</td>\n",
       "      <td>3</td>\n",
       "      <td>2</td>\n",
       "      <td>5</td>\n",
       "      <td>1</td>\n",
       "      <td>3</td>\n",
       "      <td>1</td>\n",
       "      <td>1</td>\n",
       "      <td>0</td>\n",
       "    </tr>\n",
       "  </tbody>\n",
       "</table>\n",
       "</div>"
      ],
      "text/plain": [
       "        id  age  delivery_options  online_ordering_flow  chocolate_quality  \\\n",
       "0  1334268   55                 3                     3                  4   \n",
       "1    25807   39                 1                     1                  4   \n",
       "2  8091466   56                 2                     2                  2   \n",
       "3  6008938   64                 4                     3                  5   \n",
       "4  3030096   59                 5                     3                  1   \n",
       "\n",
       "   chocolate_variety  chocolate_uniqueness  innovation  inspiration  \\\n",
       "0                  3                     3           1            4   \n",
       "1                  1                     3           2            3   \n",
       "2                  3                     3           2            3   \n",
       "3                  5                     3           4            4   \n",
       "4                  5                     4           1            1   \n",
       "\n",
       "   payment_options  price_fairness  price_variety  price_comparison  \\\n",
       "0                1               2              3                 1   \n",
       "1                1               5              5                 2   \n",
       "2                2               2              5                 2   \n",
       "3                3               3              4                 4   \n",
       "4                3               2              5                 1   \n",
       "\n",
       "   packaging  gender_Male  lifecycle_Returning  satisfaction_Satisfied  \n",
       "0          1            0                    1                       0  \n",
       "1          1            0                    0                       0  \n",
       "2          2            0                    1                       0  \n",
       "3          3            0                    1                       0  \n",
       "4          3            1                    1                       0  "
      ]
     },
     "execution_count": 5,
     "metadata": {},
     "output_type": "execute_result"
    }
   ],
   "source": [
    "df.describe();\n",
    "df.head()"
   ]
  },
  {
   "cell_type": "code",
   "execution_count": 6,
   "id": "d4080193-85ad-496e-bbfd-5a4bb24059d6",
   "metadata": {},
   "outputs": [
    {
     "data": {
      "text/html": [
       "<div>\n",
       "<style scoped>\n",
       "    .dataframe tbody tr th:only-of-type {\n",
       "        vertical-align: middle;\n",
       "    }\n",
       "\n",
       "    .dataframe tbody tr th {\n",
       "        vertical-align: top;\n",
       "    }\n",
       "\n",
       "    .dataframe thead th {\n",
       "        text-align: right;\n",
       "    }\n",
       "</style>\n",
       "<table border=\"1\" class=\"dataframe\">\n",
       "  <thead>\n",
       "    <tr style=\"text-align: right;\">\n",
       "      <th></th>\n",
       "      <th>id</th>\n",
       "      <th>age</th>\n",
       "      <th>delivery_options</th>\n",
       "      <th>online_ordering_flow</th>\n",
       "      <th>chocolate_quality</th>\n",
       "      <th>chocolate_variety</th>\n",
       "      <th>chocolate_uniqueness</th>\n",
       "      <th>innovation</th>\n",
       "      <th>inspiration</th>\n",
       "      <th>payment_options</th>\n",
       "      <th>price_fairness</th>\n",
       "      <th>price_variety</th>\n",
       "      <th>price_comparison</th>\n",
       "      <th>packaging</th>\n",
       "      <th>gender_Male</th>\n",
       "      <th>lifecycle_Returning</th>\n",
       "    </tr>\n",
       "    <tr>\n",
       "      <th>satisfaction_Satisfied</th>\n",
       "      <th></th>\n",
       "      <th></th>\n",
       "      <th></th>\n",
       "      <th></th>\n",
       "      <th></th>\n",
       "      <th></th>\n",
       "      <th></th>\n",
       "      <th></th>\n",
       "      <th></th>\n",
       "      <th></th>\n",
       "      <th></th>\n",
       "      <th></th>\n",
       "      <th></th>\n",
       "      <th></th>\n",
       "      <th></th>\n",
       "      <th></th>\n",
       "    </tr>\n",
       "  </thead>\n",
       "  <tbody>\n",
       "    <tr>\n",
       "      <th>0</th>\n",
       "      <td>5.028717e+06</td>\n",
       "      <td>37.669501</td>\n",
       "      <td>3.110521</td>\n",
       "      <td>2.539497</td>\n",
       "      <td>3.064825</td>\n",
       "      <td>2.662416</td>\n",
       "      <td>3.007439</td>\n",
       "      <td>3.024796</td>\n",
       "      <td>3.066950</td>\n",
       "      <td>2.996103</td>\n",
       "      <td>2.976266</td>\n",
       "      <td>3.003542</td>\n",
       "      <td>3.405597</td>\n",
       "      <td>2.394970</td>\n",
       "      <td>0.493801</td>\n",
       "      <td>0.747432</td>\n",
       "    </tr>\n",
       "    <tr>\n",
       "      <th>1</th>\n",
       "      <td>5.119232e+06</td>\n",
       "      <td>41.679375</td>\n",
       "      <td>2.979329</td>\n",
       "      <td>3.054203</td>\n",
       "      <td>3.636197</td>\n",
       "      <td>4.002297</td>\n",
       "      <td>2.943960</td>\n",
       "      <td>3.855765</td>\n",
       "      <td>3.931557</td>\n",
       "      <td>3.826367</td>\n",
       "      <td>3.744143</td>\n",
       "      <td>3.481856</td>\n",
       "      <td>3.988516</td>\n",
       "      <td>3.185117</td>\n",
       "      <td>0.508957</td>\n",
       "      <td>0.900322</td>\n",
       "    </tr>\n",
       "  </tbody>\n",
       "</table>\n",
       "</div>"
      ],
      "text/plain": [
       "                                  id        age  delivery_options  \\\n",
       "satisfaction_Satisfied                                              \n",
       "0                       5.028717e+06  37.669501          3.110521   \n",
       "1                       5.119232e+06  41.679375          2.979329   \n",
       "\n",
       "                        online_ordering_flow  chocolate_quality  \\\n",
       "satisfaction_Satisfied                                            \n",
       "0                                   2.539497           3.064825   \n",
       "1                                   3.054203           3.636197   \n",
       "\n",
       "                        chocolate_variety  chocolate_uniqueness  innovation  \\\n",
       "satisfaction_Satisfied                                                        \n",
       "0                                2.662416              3.007439    3.024796   \n",
       "1                                4.002297              2.943960    3.855765   \n",
       "\n",
       "                        inspiration  payment_options  price_fairness  \\\n",
       "satisfaction_Satisfied                                                 \n",
       "0                          3.066950         2.996103        2.976266   \n",
       "1                          3.931557         3.826367        3.744143   \n",
       "\n",
       "                        price_variety  price_comparison  packaging  \\\n",
       "satisfaction_Satisfied                                               \n",
       "0                            3.003542          3.405597   2.394970   \n",
       "1                            3.481856          3.988516   3.185117   \n",
       "\n",
       "                        gender_Male  lifecycle_Returning  \n",
       "satisfaction_Satisfied                                    \n",
       "0                          0.493801             0.747432  \n",
       "1                          0.508957             0.900322  "
      ]
     },
     "execution_count": 6,
     "metadata": {},
     "output_type": "execute_result"
    }
   ],
   "source": [
    "df.groupby(['satisfaction_Satisfied']).mean()"
   ]
  },
  {
   "cell_type": "markdown",
   "id": "5821d60a-8142-4f4a-884f-c09776c633a4",
   "metadata": {},
   "source": [
    "Isolate X and Y and visualize a correlation matrix with a heatmap\n",
    "---\n",
    "Create X and y objects that have independent and dependent variables, respectively. Build a correlation matrix with the newly created X data frame. Visualize it using a heatmap and set the size of the chart to (10,6). Customize the following parameters:\n",
    "\n",
    "* annot.\n",
    "* fmt.\n",
    "* center.\n",
    "* cmap.\n",
    "* linewitdths.\n",
    "* linecolor."
   ]
  },
  {
   "cell_type": "code",
   "execution_count": 7,
   "id": "a3f64a01-9ea2-4163-b4d2-7944903e7978",
   "metadata": {},
   "outputs": [],
   "source": [
    "# Isolate X and Y\n",
    "y = df.satisfaction_Satisfied\n",
    "X = df.drop(columns = [\"id\", \"satisfaction_Satisfied\"])"
   ]
  },
  {
   "cell_type": "code",
   "execution_count": 8,
   "id": "387471a4-5c43-42bb-89f6-bff776277907",
   "metadata": {},
   "outputs": [
    {
     "data": {
      "image/png": "[encoded data removed]",
      "text/plain": [
       "<Figure size 720x432 with 2 Axes>"
      ]
     },
     "metadata": {
      "needs_background": "light"
     },
     "output_type": "display_data"
    }
   ],
   "source": [
    "# Correlation heatmap\n",
    "#set size of the graph\n",
    "fig, ax = plt.subplots(figsize=(10,6)) \n",
    " \n",
    "#Correlation heatmap\n",
    "sns.heatmap(data = X.corr(),\n",
    "            #include the figsize specified initially\n",
    "            ax = ax)\n",
    "plt.show()"
   ]
  },
  {
   "cell_type": "code",
   "execution_count": 9,
   "id": "2aeac9b3-2435-4e1a-9122-ce13ace42564",
   "metadata": {},
   "outputs": [
    {
     "data": {
      "image/png": "[encoded data removed]",
      "text/plain": [
       "<Figure size 720x432 with 2 Axes>"
      ]
     },
     "metadata": {
      "needs_background": "light"
     },
     "output_type": "display_data"
    }
   ],
   "source": [
    "# Correlation heatmap\n",
    "#set size of the graph\n",
    "fig, ax = plt.subplots(figsize=(10,6)) \n",
    " \n",
    "#Correlation heatmap\n",
    "sns.heatmap(data = X.corr(),\n",
    "            #annot will include the correlation values in the chart\n",
    "            annot = True,\n",
    "            #to specify the decimal cases format\n",
    "            fmt = '.1f',\n",
    "            #to include a middle point in the color map\n",
    "            center = 0,\n",
    "            #Specify which color gradient map to include\n",
    "            cmap = 'Spectral',\n",
    "            #Specify the width of the lines between the heatmap rectangules\n",
    "            linewidths = 1,\n",
    "            #Specify the color of the lines between rectangules\n",
    "            linecolor = 'purple',\n",
    "            #include the figsize specified initially\n",
    "            ax = ax)\n",
    "plt.show()"
   ]
  },
  {
   "cell_type": "markdown",
   "id": "5793b5ac-052d-4613-a0d3-880db41ae9fe",
   "metadata": {},
   "source": [
    "Split data into training and test set and build a baseline model\n",
    "---\n",
    "Use the train_test_split function to allocate 20% of the data to the test set. Use the stratification option to ensure a correct split and set a random_state to 1502. To finish this task, build a random forest classification model with 100 trees and a random_state also set to 1502."
   ]
  },
  {
   "cell_type": "code",
   "execution_count": 10,
   "id": "d40802dd-731c-47dc-90ab-d32a38a09461",
   "metadata": {},
   "outputs": [],
   "source": [
    "#Training and Test Split\n",
    "from sklearn.model_selection import train_test_split\n",
    "X_train, X_test, y_train, y_test = train_test_split(X, y,\n",
    "                                                    test_size = 0.2,\n",
    "                                                    random_state = 1502,\n",
    "                                                    stratify = y)"
   ]
  },
  {
   "cell_type": "code",
   "execution_count": 11,
   "id": "ab6a07d3-58c3-4623-a0fb-724567ff82f1",
   "metadata": {},
   "outputs": [
    {
     "data": {
      "text/plain": [
       "RandomForestClassifier(random_state=1502)"
      ]
     },
     "execution_count": 11,
     "metadata": {},
     "output_type": "execute_result"
    }
   ],
   "source": [
    "#Random Forest Model\n",
    "from sklearn.ensemble import RandomForestClassifier\n",
    "model = RandomForestClassifier(n_estimators = 100,\n",
    "                               random_state = 1502)\n",
    "model.fit(X_train, y_train)"
   ]
  },
  {
   "cell_type": "markdown",
   "id": "ee54e45d-9860-4ade-b59d-9049e15ca2f4",
   "metadata": {},
   "source": [
    "Assess the model\n",
    "---\n",
    "In this task, you will assess the model. Apply the model to make predictions. Compare them with the test set values and use the accuracy_score function to compute the overall model accuracy."
   ]
  },
  {
   "cell_type": "code",
   "execution_count": 12,
   "id": "72c11454-92e2-49a2-8653-f566a71a9e0b",
   "metadata": {},
   "outputs": [
    {
     "data": {
      "text/plain": [
       "array([0, 1, 0, 0, 0], dtype=uint8)"
      ]
     },
     "execution_count": 12,
     "metadata": {},
     "output_type": "execute_result"
    }
   ],
   "source": [
    "#Predictions\n",
    "predictions = model.predict(X_test)\n",
    "predictions[:5]"
   ]
  },
  {
   "cell_type": "code",
   "execution_count": 13,
   "id": "c848d659-54ea-42d7-9cec-9cce6f969457",
   "metadata": {},
   "outputs": [
    {
     "name": "stdout",
     "output_type": "stream",
     "text": [
      "0.918\n"
     ]
    }
   ],
   "source": [
    "#Model Assessment\n",
    "from sklearn.metrics import accuracy_score\n",
    "print(accuracy_score(y_test, predictions))"
   ]
  },
  {
   "cell_type": "markdown",
   "id": "eb9f1063-598b-412e-a11a-d7cae425940a",
   "metadata": {},
   "source": [
    "Prepare parameter tuning grid\n",
    "---\n",
    "Check which parameters are in the baseline model. Build a grid, in the form of a Python dictionary, to tune the following parameters: n_estimators, max_depth, min_samples_split, min_samples_leaf, and max_features. Each parameter should have 2 options: one from the baseline mode and another possibility."
   ]
  },
  {
   "cell_type": "code",
   "execution_count": 14,
   "id": "a657d800-8e4e-4cac-8a71-891505bc966b",
   "metadata": {},
   "outputs": [
    {
     "data": {
      "text/plain": [
       "{'bootstrap': True,\n",
       " 'ccp_alpha': 0.0,\n",
       " 'class_weight': None,\n",
       " 'criterion': 'gini',\n",
       " 'max_depth': None,\n",
       " 'max_features': 'auto',\n",
       " 'max_leaf_nodes': None,\n",
       " 'max_samples': None,\n",
       " 'min_impurity_decrease': 0.0,\n",
       " 'min_samples_leaf': 1,\n",
       " 'min_samples_split': 2,\n",
       " 'min_weight_fraction_leaf': 0.0,\n",
       " 'n_estimators': 100,\n",
       " 'n_jobs': None,\n",
       " 'oob_score': False,\n",
       " 'random_state': 1502,\n",
       " 'verbose': 0,\n",
       " 'warm_start': False}"
      ]
     },
     "execution_count": 14,
     "metadata": {},
     "output_type": "execute_result"
    }
   ],
   "source": [
    "# Looking at the random forest params\n",
    "model.get_params()"
   ]
  },
  {
   "cell_type": "code",
   "execution_count": 15,
   "id": "12633f7b-3c92-4669-b758-fd4a4a925aed",
   "metadata": {},
   "outputs": [],
   "source": [
    "# Define the parameter grid to search over\n",
    "param_grid = {\n",
    "    'n_estimators': [100, 200],\n",
    "    'max_depth': [None, 5],\n",
    "    'min_samples_split': [2, 5],\n",
    "    'min_samples_leaf': [1, 2],\n",
    "    'max_features': ['sqrt', 'log2']\n",
    "}"
   ]
  },
  {
   "cell_type": "markdown",
   "id": "8d5a7edd-3b02-4d25-a6a9-57f90e6c9256",
   "metadata": {},
   "source": [
    "Implement cross-validation and parameter tuning\n",
    "---\n",
    "In this task, you will implement parameter tuning and cross-validation for the random forest model. Start by importing the function GridSearchCV to perform cross-validation through the parameter grid. Next, build a baseline model, called base_model, setting the random_state equal to 1502 inside the Random Forest Classifier. Finally, use the GridSearchCV, setting the following optional parameters:\n",
    "\n",
    "* 3 folds as the cross-validation parameter.\n",
    "* n_jobs as  -1.\n",
    "* verbose equal to 1.\n",
    "\n",
    "Print the best parameters and score once finished."
   ]
  },
  {
   "cell_type": "code",
   "execution_count": 16,
   "id": "83bbbf02-6991-461a-94e8-097e27897e25",
   "metadata": {},
   "outputs": [
    {
     "name": "stdout",
     "output_type": "stream",
     "text": [
      "Fitting 3 folds for each of 32 candidates, totalling 96 fits\n"
     ]
    },
    {
     "data": {
      "text/plain": [
       "GridSearchCV(cv=3, estimator=RandomForestClassifier(random_state=1502),\n",
       "             n_jobs=-1,\n",
       "             param_grid={'max_depth': [None, 5],\n",
       "                         'max_features': ['sqrt', 'log2'],\n",
       "                         'min_samples_leaf': [1, 2],\n",
       "                         'min_samples_split': [2, 5],\n",
       "                         'n_estimators': [100, 200]},\n",
       "             verbose=1)"
      ]
     },
     "execution_count": 16,
     "metadata": {},
     "output_type": "execute_result"
    }
   ],
   "source": [
    "# Import function\n",
    "from sklearn.model_selection import GridSearchCV\n",
    "\n",
    "# Create a random forest classifier object\n",
    "base_model = RandomForestClassifier(random_state = 1502)\n",
    "\n",
    "# Create a grid search object\n",
    "grid_search = GridSearchCV(base_model, \n",
    "                           param_grid=param_grid, \n",
    "                           cv=3, \n",
    "                           n_jobs=-1, \n",
    "                           verbose=1)\n",
    " \n",
    "# Fit the grid search object to the data\n",
    "grid_search.fit(X, y)"
   ]
  },
  {
   "cell_type": "code",
   "execution_count": 17,
   "id": "ef71c69d-f8f3-4dd2-a7d0-a050c5967025",
   "metadata": {},
   "outputs": [
    {
     "name": "stdout",
     "output_type": "stream",
     "text": [
      "Best parameters:  {'max_depth': None, 'max_features': 'sqrt', 'min_samples_leaf': 1, 'min_samples_split': 2, 'n_estimators': 200}\n",
      "Best score:  0.9195996334946696\n"
     ]
    }
   ],
   "source": [
    "# Print the best parameters and score\n",
    "print(\"Best parameters: \", grid_search.best_params_)\n",
    "print(\"Best score: \", grid_search.best_score_)"
   ]
  },
  {
   "cell_type": "code",
   "execution_count": 18,
   "id": "d944ed3e-8f8b-438d-ac8a-8bf892142de4",
   "metadata": {},
   "outputs": [
    {
     "data": {
      "text/plain": [
       "{'max_depth': None,\n",
       " 'max_features': 'sqrt',\n",
       " 'min_samples_leaf': 1,\n",
       " 'min_samples_split': 2,\n",
       " 'n_estimators': 200}"
      ]
     },
     "execution_count": 18,
     "metadata": {},
     "output_type": "execute_result"
    }
   ],
   "source": [
    "# Fetching best parameters\n",
    "best_params = grid_search.best_params_\n",
    "best_params"
   ]
  },
  {
   "cell_type": "code",
   "execution_count": 19,
   "id": "68404b33-11f4-4901-844f-2e77d6242e9a",
   "metadata": {},
   "outputs": [
    {
     "data": {
      "text/plain": [
       "RandomForestClassifier(max_features='sqrt', n_estimators=200, random_state=1502)"
      ]
     },
     "execution_count": 19,
     "metadata": {},
     "output_type": "execute_result"
    }
   ],
   "source": [
    "# Tuned model\n",
    "tuned_model = RandomForestClassifier(max_depth = best_params['max_depth'],\n",
    "                                     max_features = best_params['max_features'],\n",
    "                                     min_samples_leaf = best_params['min_samples_leaf'],\n",
    "                                     min_samples_split = best_params['min_samples_split'],\n",
    "                                     n_estimators = best_params['n_estimators'],\n",
    "                                     random_state = 1502)\n",
    "tuned_model.fit(X, y)"
   ]
  },
  {
   "cell_type": "code",
   "execution_count": 20,
   "id": "4800e970-3c2f-4218-bc84-6b433a026cd0",
   "metadata": {},
   "outputs": [
    {
     "data": {
      "text/plain": [
       "age                     0.079181\n",
       "delivery_options        0.060158\n",
       "online_ordering_flow    0.050975\n",
       "chocolate_quality       0.032581\n",
       "chocolate_variety       0.216719\n",
       "chocolate_uniqueness    0.040009\n",
       "innovation              0.053762\n",
       "inspiration             0.067629\n",
       "payment_options         0.078622\n",
       "price_fairness          0.041268\n",
       "price_variety           0.030470\n",
       "price_comparison        0.045339\n",
       "packaging               0.161916\n",
       "gender_Male             0.014790\n",
       "lifecycle_Returning     0.026581\n",
       "Name: importance, dtype: float64"
      ]
     },
     "execution_count": 20,
     "metadata": {},
     "output_type": "execute_result"
    }
   ],
   "source": [
    "#Feature Importance\n",
    "importance = pd.Series(tuned_model.feature_importances_,\n",
    "                       index = X.columns.values,\n",
    "                       name = \"importance\")\n",
    "importance"
   ]
  },
  {
   "cell_type": "code",
   "execution_count": 21,
   "id": "8beab686-5c96-4cc7-8c89-b56ef3291018",
   "metadata": {},
   "outputs": [],
   "source": [
    "# Removing non-drivers\n",
    "importance  = importance.drop([\"age\", \"gender_Male\", \"lifecycle_Returning\"])"
   ]
  },
  {
   "cell_type": "code",
   "execution_count": 22,
   "id": "7caaea99-dfcb-4cc9-ab49-7edf9644f4ff",
   "metadata": {},
   "outputs": [
    {
     "data": {
      "image/png": "[encoded data removed]",
      "text/plain": [
       "<Figure size 648x432 with 1 Axes>"
      ]
     },
     "metadata": {
      "needs_background": "light"
     },
     "output_type": "display_data"
    }
   ],
   "source": [
    "# Plotting feature Importance\n",
    "importance.nlargest(5).plot(kind = 'barh',\n",
    "                            figsize = (9,6))\n",
    "plt.show()"
   ]
  },
  {
   "cell_type": "code",
   "execution_count": 23,
   "id": "346f7e1b-8891-473d-88a6-7b6d2e37e123",
   "metadata": {},
   "outputs": [],
   "source": [
    "# Scoring of each driver\n",
    "scoring = X.drop(columns = [\"age\", \"gender_Male\", \"lifecycle_Returning\"]).mean().rename(\"scoring\")"
   ]
  },
  {
   "cell_type": "code",
   "execution_count": 24,
   "id": "ba97e1b8-1cc0-4a3d-9973-ea8f31f57073",
   "metadata": {},
   "outputs": [],
   "source": [
    "# Create DataFrame\n",
    "df_drivers = pd.concat([importance, scoring], axis = 1)"
   ]
  },
  {
   "cell_type": "code",
   "execution_count": 26,
   "id": "bf80507d-4c2a-4910-bd9e-bd73c3a41738",
   "metadata": {},
   "outputs": [
    {
     "data": {
      "image/png": "[encoded data removed]",
      "text/plain": [
       "<Figure size 720x432 with 1 Axes>"
      ]
     },
     "metadata": {
      "needs_background": "light"
     },
     "output_type": "display_data"
    }
   ],
   "source": [
    "#set size of the graph\n",
    "fig, ax = plt.subplots(figsize=(10,6)) \n",
    " \n",
    "#Scatterplot\n",
    "plt.scatter(df_drivers[\"scoring\"], \n",
    "            df_drivers[\"importance\"], \n",
    "            color = \"black\")\n",
    " \n",
    "#Adding text\n",
    "for idx, row in df_drivers.iterrows(): \n",
    "    plt.text(row['scoring'] + 0.01, row['importance'] + 0.01, \n",
    "             idx,\n",
    "             size = \"large\")\n",
    " \n",
    "plt.show()"
   ]
  },
  {
   "cell_type": "code",
   "execution_count": 30,
   "id": "0b334e7d-7f48-4bb7-8785-597eeef00366",
   "metadata": {},
   "outputs": [
    {
     "data": {
      "image/png": "[encoded data removed]",
      "text/plain": [
       "<Figure size 720x432 with 1 Axes>"
      ]
     },
     "metadata": {
      "needs_background": "light"
     },
     "output_type": "display_data"
    }
   ],
   "source": [
    "#set size of the graph\n",
    "fig, ax = plt.subplots(figsize=(10,6)) \n",
    " \n",
    "# colouring\n",
    "ax.margins(0)\n",
    "ax.axvspan(df_drivers.scoring.mean(), \n",
    "           df_drivers.scoring.max()+0.05, \n",
    "           facecolor='green', \n",
    "           alpha=0.5)\n",
    "ax.axvspan(df_drivers.scoring.min()-0.05, \n",
    "           df_drivers.scoring.mean(), \n",
    "           facecolor='red', \n",
    "           alpha=0.5)\n",
    "ax.axhspan(0, \n",
    "           df_drivers.importance.mean(), \n",
    "           facecolor='white', \n",
    "           alpha=0.4)\n",
    "ax.axhspan(0, \n",
    "           df_drivers.importance.max() + 0.05, \n",
    "           facecolor='white', \n",
    "           alpha=0)\n",
    " \n",
    "#Scatterplot\n",
    "plt.scatter(df_drivers[\"scoring\"], \n",
    "            df_drivers[\"importance\"], \n",
    "            color = \"black\")\n",
    " \n",
    "#Adding text\n",
    "for idx, row in df_drivers.iterrows(): \n",
    "    plt.text(row['scoring'] + 0.005, row['importance'] + 0.005, \n",
    "             idx,\n",
    "             size = \"medium\")\n",
    " \n",
    "#Add vertical and horizontal line\n",
    "plt.axvline(df_drivers.scoring.mean(), \n",
    "            color = \"b\", \n",
    "            linestyle = \"dashed\")\n",
    "plt.axhline(df_drivers.importance.mean(), \n",
    "            color = \"b\", \n",
    "            linestyle = \"dashed\")\n",
    " \n",
    "plt.show()"
   ]
  },
  {
   "cell_type": "code",
   "execution_count": null,
   "id": "1ffdf54c-18c6-4b35-bec0-332cb91fff99",
   "metadata": {},
   "outputs": [],
   "source": []
  }
 ],
 "metadata": {
  "kernelspec": {
   "display_name": "Python 3.9 (tensorflow)",
   "language": "python",
   "name": "tensorflow"
  },
  "language_info": {
   "codemirror_mode": {
    "name": "ipython",
    "version": 3
   },
   "file_extension": ".py",
   "mimetype": "text/x-python",
   "name": "python",
   "nbconvert_exporter": "python",
   "pygments_lexer": "ipython3",
   "version": "3.9.9"
  }
 },
 "nbformat": 4,
 "nbformat_minor": 5
}
